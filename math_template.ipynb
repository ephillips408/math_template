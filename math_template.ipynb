{
 "cells": [
  {
   "cell_type": "code",
   "execution_count": 1,
   "metadata": {},
   "outputs": [],
   "source": [
    "import numpy as np\n",
    "import math\n",
    "import sympy as sym\n",
    "from scipy import linalg\n",
    "from sympy import *\n",
    "\n",
    "import vector_helpers as vhelp"
   ]
  },
  {
   "cell_type": "code",
   "execution_count": 2,
   "metadata": {},
   "outputs": [],
   "source": [
    "a, b, c, d, t, x, y, z = symbols('a b c d t x y z')\n",
    "\n",
    "A = np.array([4,-1,1])\n",
    "B = np.array([2,3,-1])\n",
    "i_hat = np.array([1,0,0])\n",
    "j_hat = np.array([0,1,0])\n",
    "k_hat = np.array([0,0,1])\n",
    "func_vec = np.array([2*t, sym.log(t), exp(0.254*t)])\n",
    "\n",
    "indefinite = sym.integrate((sym.sqrt((-3*sym.sin(x))**2 + (3*sym.cos(x))**2) + (9*sym.sin(x) + 6*sym.cos(x))**2), (x, 0, 2*sym.pi))\n",
    "definite = sym.integrate(sym.sqrt((3*sym.cos(3*t)**2) + (-3*sym.sin(3*t)**2) + t**2), (t, 0, sym.pi))\n",
    "ddx = sym.diff(sym.exp(x)*sym.cos(y), x)\n",
    "expr = sym.sqrt(9 - x**2 - y**2)"
   ]
  },
  {
   "cell_type": "code",
   "execution_count": 3,
   "metadata": {},
   "outputs": [
    {
     "data": {
      "text/plain": [
       "array([2, 1/t, 0.254*exp(0.254*t)], dtype=object)"
      ]
     },
     "execution_count": 3,
     "metadata": {},
     "output_type": "execute_result"
    }
   ],
   "source": [
    "vhelp.deriv_func_vec(func_vec, t)"
   ]
  },
  {
   "cell_type": "code",
   "execution_count": null,
   "metadata": {},
   "outputs": [],
   "source": []
  }
 ],
 "metadata": {
  "kernelspec": {
   "display_name": "Python 3",
   "language": "python",
   "name": "python3"
  },
  "language_info": {
   "codemirror_mode": {
    "name": "ipython",
    "version": 3
   },
   "file_extension": ".py",
   "mimetype": "text/x-python",
   "name": "python",
   "nbconvert_exporter": "python",
   "pygments_lexer": "ipython3",
   "version": "3.7.7"
  }
 },
 "nbformat": 4,
 "nbformat_minor": 4
}
